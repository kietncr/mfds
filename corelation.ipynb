{
  "nbformat": 4,
  "nbformat_minor": 0,
  "metadata": {
    "colab": {
      "provenance": []
    },
    "kernelspec": {
      "name": "python3",
      "display_name": "Python 3"
    },
    "language_info": {
      "name": "python"
    }
  },
  "cells": [
    {
      "cell_type": "code",
      "execution_count": null,
      "metadata": {
        "id": "H2G_DMUquzBj"
      },
      "outputs": [],
      "source": [
        "# Correlation Method\n",
        "import pandas as pd\n",
        "import numpy as np\n",
        "import matplotlib.pyplot as plt\n",
        "import seaborn as sns\n",
        "from sklearn.model_selection import train_test_split\n",
        "from sklearn.linear_model import LinearRegression\n",
        "from sklearn.metrics import mean_squared_error, r2_score\n",
        "\n",
        "\n",
        "\n",
        "# METHOD 1 FOR LOADING DATA\n",
        "# data = {\n",
        "#     'kills': [3, 0, 5, 1, 2],\n",
        "#     'damageDealt': [450.0, 100.0, 950.0, 300.0, 650.0],\n",
        "#     'winPlacePerc': [0.76, 0.22, 0.89, 0.45, 0.60],\n",
        "#     'boosts': [4, 0, 2, 1, 3],\n",
        "#     'heals': [3, 1, 5, 2, 3],\n",
        "#     'walkDistance': [1200, 200, 1500, 800, 1100],\n",
        "#     'rideDistance': [0, 300, 0, 1000, 200],\n",
        "#     'swimDistance': [0, 0, 0, 50, 20],\n",
        "#     'headshotKills': [1, 0, 2, 0, 1],\n",
        "#     'killStreaks': [1, 0, 2, 0, 1]\n",
        "# }\n",
        "# df = pd.DataFrame(data);\n",
        "\n",
        "\n",
        "# METHOD 2 FOR LOADING DATA\n",
        "url = 'https://raw.githubusercontent.com/akki8087/Big-Mart-Sales/master/Train.csv'  # editable Corrected URL\n",
        "df = pd.read_csv(url)\n",
        "\n",
        "\n",
        "# Print dataset information\n",
        "df.info()\n",
        "\n",
        "# Check for missing values\n",
        "print(df.isnull().sum())\n",
        "\n",
        "# Fill missing values\n",
        "df['Item_Weight'].fillna(df['Item_Weight'].median(), inplace=True)        #editable\n",
        "df['Outlet_Size'].fillna(df['Outlet_Size'].mode().iloc[0], inplace=True)  #editable    # Use .iloc[0] for mode\n",
        "\n",
        "# Confirm missing values are filled\n",
        "print(df[['Item_Weight', 'Outlet_Size']].isnull().sum())                  #editable\n",
        "\n",
        "# Correlation matrix\n",
        "corr_matrix = df.corr(numeric_only=True)\n",
        "print(corr_matrix)\n",
        "\n",
        "# Heatmap\n",
        "sns.heatmap(corr_matrix, annot=True, cmap='coolwarm')\n",
        "plt.title('Correlation Heatmap')\n",
        "plt.show()\n",
        "\n",
        "# Corrected scatter plot\n",
        "plt.figure(figsize=(10, 6))\n",
        "sns.scatterplot(x='Item_Weight', y='Item_MRP', data=df)         #editable\n",
        "plt.title('Item MRP with respect to Item Weight')               #editable\n",
        "plt.xlabel('Item Weight')                                       #editable\n",
        "plt.ylabel('Item MRP')                                          #editable\n",
        "plt.show()\n",
        "\n",
        "# Regression plot\n",
        "sns.regplot(x='Item_Weight', y='Item_MRP', data=df, line_kws={'color': 'red'})\n",
        "plt.title('Regression Plot: Item Weight vs. Item MRP')         #editable\n",
        "plt.xlabel('Item Weight')                                      #editable\n",
        "plt.ylabel('Item MRP')                                         #editable\n",
        "plt.show()\n"
      ]
    }
  ]
}