{
  "nbformat": 4,
  "nbformat_minor": 0,
  "metadata": {
    "colab": {
      "provenance": []
    },
    "kernelspec": {
      "name": "python3",
      "display_name": "Python 3"
    },
    "language_info": {
      "name": "python"
    }
  },
  "cells": [
    {
      "cell_type": "code",
      "execution_count": 2,
      "metadata": {
        "colab": {
          "base_uri": "https://localhost:8080/"
        },
        "id": "Ql8XT49Sz09b",
        "outputId": "b6498cf9-d1a5-47a8-a69c-47e3951b5543"
      },
      "outputs": [
        {
          "output_type": "stream",
          "name": "stdout",
          "text": [
            "Z-Score: -102.5\n",
            "P-Value: 0.0\n",
            "Reject the null hypothesis: Significant difference in coffee can weight.\n"
          ]
        }
      ],
      "source": [
        "# Z - Test\n",
        "\n",
        "import numpy as np\n",
        "from scipy import stats\n",
        "# Given data\n",
        "population_mean = 480       #editable\n",
        "sample_mean = 398       #editable\n",
        "population_std = 8      #editable\n",
        "sample_size = 100       #editable\n",
        "\n",
        "# Z-test\n",
        "z_score = (sample_mean - population_mean) / (population_std / np.sqrt(sample_size))\n",
        "p_value = 2 * (1 - stats.norm.cdf(abs(z_score)))\n",
        "\n",
        "print(f\"Z-Score: {z_score}\")\n",
        "print(f\"P-Value: {p_value}\")\n",
        "\n",
        "alpha = 0.05       #editable of mentioned\n",
        "if p_value < alpha:\n",
        "  print(\"Reject the null hypothesis: Significant difference in coffee can weight.\")           #editable\n",
        "else:\n",
        "  print( \"Fail to reject the null hypothesis: No significant difference in coffee can weight.\")        #editable"
      ]
    }
  ]
}