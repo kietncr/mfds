{
  "nbformat": 4,
  "nbformat_minor": 0,
  "metadata": {
    "colab": {
      "provenance": []
    },
    "kernelspec": {
      "name": "python3",
      "display_name": "Python 3"
    },
    "language_info": {
      "name": "python"
    }
  },
  "cells": [
    {
      "cell_type": "code",
      "execution_count": 1,
      "metadata": {
        "colab": {
          "base_uri": "https://localhost:8080/"
        },
        "id": "ZO41Vdmx0yv0",
        "outputId": "fc252a59-ba08-43d9-ab0d-cacc6a12958e"
      },
      "outputs": [
        {
          "output_type": "stream",
          "name": "stdout",
          "text": [
            "The T score is: -1.5491933384829668\n",
            "The P value is: 0.14364000024522117\n",
            "Fail to reject the null hypothesis: No significance diffrence in coffee can weight.\n"
          ]
        }
      ],
      "source": [
        "# T TEST\n",
        "import numpy as np\n",
        "from scipy import stats\n",
        "\n",
        "# method 1\n",
        "population_mean = 50      #editable\n",
        "sample_mean = 48      #editable\n",
        "population_std = 5      #editable\n",
        "sample_size = 15      #editable\n",
        "\n",
        "# method 2\n",
        "# sample_data = [398, 399, 401, 402, 397, 396, 403, 395, 400, 398]\n",
        "# population_mean = 400\n",
        "# sample_mean = np.mean(sample_data)\n",
        "# sample_std = np. std(sample_data, ddof=1)\n",
        "# sample_size = len(sample_data)\n",
        "\n",
        "t_stat = (sample_mean - population_mean)/(population_std/np.sqrt(sample_size))\n",
        "print(f\"The T score is: {t_stat}\")\n",
        "\n",
        "p_value = 2*(1-stats.t.cdf(abs(t_stat), df = sample_size-1))\n",
        "print(f\"The P value is: {p_value}\")\n",
        "\n",
        "alpha = 0.05      #editable if mentioned\n",
        "\n",
        "if p_value < alpha:\n",
        "  print(\"Reject the null hypothesis: There is a significance difference in coffee can weight.\")             #editable\n",
        "else:\n",
        "  print(\"Fail to reject the null hypothesis: No significance diffrence in coffee can weight.\")          #editable"
      ]
    }
  ]
}